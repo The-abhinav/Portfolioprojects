{
 "cells": [
  {
   "cell_type": "code",
   "execution_count": 1,
   "id": "0fa59440",
   "metadata": {},
   "outputs": [],
   "source": [
    "# import libraries\n",
    "from bs4 import BeautifulSoup\n",
    "import requests\n",
    "import smtplib\n",
    "import time\n",
    "import datetime"
   ]
  },
  {
   "cell_type": "code",
   "execution_count": 9,
   "id": "d851be84",
   "metadata": {},
   "outputs": [
    {
     "name": "stdout",
     "output_type": "stream",
     "text": [
      "\n",
      "            NutriPro Juicer Mixer Grinder - Smoothie Maker - 500 Watts (3 Jar, Silver)\n",
      "           \n",
      "\n",
      "                          1,830\n",
      "                          \n",
      "                           .\n",
      "                          \n",
      "\n"
     ]
    }
   ],
   "source": [
    "# connecting to website...\n",
    "URL = 'https://www.amazon.in/dp/B09J2SCVQT/?coliid=I2T36PQJRFH65V&colid=IASONWCL1DEQ&psc=1&ref_=lv_ov_lig_dp_it'\n",
    "\n",
    "headers = {\"User-Agent\": \"Mozilla/5.0 (Windows NT 10.0; Win64; x64) AppleWebKit/537.36 (KHTML, like Gecko) Chrome/111.0.0.0 Safari/537.36\", \"Accept-Encoding\":\"gzip, deflate\", \"Accept\":\"text/html,application/xhtml+xml,application/xml;q=0.9,*/*;q=0.8\", \"DNT\":\"1\",\"Connection\":\"close\", \"Upgrade-Insecure-Requests\":\"1\"}\n",
    "\n",
    "page = requests.get(URL, headers=headers)\n",
    "\n",
    "soup1 = BeautifulSoup(page.content, \"html.parser\")\n",
    "\n",
    "soup2 = BeautifulSoup(soup1.prettify(), \"html.parser\")\n",
    "\n",
    "title = soup2.find(id='productTitle').get_text()\n",
    "\n",
    "\n",
    "price = soup2.find('span',class_='a-price-whole').get_text()\n",
    "\n",
    "\n",
    "print(title)\n",
    "print(price)"
   ]
  },
  {
   "cell_type": "code",
   "execution_count": 10,
   "id": "91639119",
   "metadata": {},
   "outputs": [
    {
     "data": {
      "text/plain": [
       "'1,830\\n                          \\n                           .'"
      ]
     },
     "execution_count": 10,
     "metadata": {},
     "output_type": "execute_result"
    }
   ],
   "source": [
    "price.strip()"
   ]
  },
  {
   "cell_type": "code",
   "execution_count": 11,
   "id": "f9eb2d5a",
   "metadata": {},
   "outputs": [
    {
     "data": {
      "text/plain": [
       "'1,83'"
      ]
     },
     "execution_count": 11,
     "metadata": {},
     "output_type": "execute_result"
    }
   ],
   "source": [
    "price.strip()[:4]"
   ]
  },
  {
   "cell_type": "code",
   "execution_count": 18,
   "id": "189be92e",
   "metadata": {},
   "outputs": [],
   "source": [
    "price = price.strip()[:5]\n",
    "title = title.strip()\n"
   ]
  },
  {
   "cell_type": "code",
   "execution_count": 19,
   "id": "219991a4",
   "metadata": {},
   "outputs": [
    {
     "name": "stdout",
     "output_type": "stream",
     "text": [
      "2023-04-01\n"
     ]
    }
   ],
   "source": [
    "today = datetime.date.today()\n",
    "print(today)"
   ]
  },
  {
   "cell_type": "code",
   "execution_count": 23,
   "id": "1338350e",
   "metadata": {},
   "outputs": [],
   "source": [
    "import csv\n",
    "header = ['Title', 'Price', 'Date']\n",
    "data = [title, price, today]\n",
    "#with open('C:/Users/abhi2/Amazonwebscraping.csv', 'w', newline='', encoding='UTF-8') as f:\n",
    "    #writer = csv.writer(f)\n",
    "    #writer.writerow(header)\n",
    "    #writer.writerow(data)"
   ]
  },
  {
   "cell_type": "code",
   "execution_count": 27,
   "id": "825eea36",
   "metadata": {},
   "outputs": [
    {
     "name": "stdout",
     "output_type": "stream",
     "text": [
      "                                               Title  Price        Date\n",
      "0  NutriPro Juicer Mixer Grinder - Smoothie Maker...  1,830  2023-04-01\n",
      "1  NutriPro Juicer Mixer Grinder - Smoothie Maker...  1,830  2023-04-01\n"
     ]
    }
   ],
   "source": [
    "import pandas as pd\n",
    "\n",
    "df = pd.read_csv(r'C:/Users/abhi2/Amazonwebscraping.csv')\n",
    "\n",
    "print(df)"
   ]
  },
  {
   "cell_type": "code",
   "execution_count": 26,
   "id": "e19a09a9",
   "metadata": {},
   "outputs": [],
   "source": [
    "#append data to CSV\n",
    "with open('C:/Users/abhi2/Amazonwebscraping.csv', 'a+', newline='', encoding='UTF-8') as f:\n",
    "    writer = csv.writer(f)\n",
    "    writer.writerow(data)"
   ]
  },
  {
   "cell_type": "code",
   "execution_count": 28,
   "id": "1406b061",
   "metadata": {},
   "outputs": [
    {
     "name": "stdout",
     "output_type": "stream",
     "text": [
      "2023-04-01\n"
     ]
    }
   ],
   "source": [
    "def check_price():\n",
    "    URL = 'https://www.amazon.in/dp/B09J2SCVQT/?coliid=I2T36PQJRFH65V&colid=IASONWCL1DEQ&psc=1&ref_=lv_ov_lig_dp_it'\n",
    "\n",
    "headers = {\"User-Agent\": \"Mozilla/5.0 (Windows NT 10.0; Win64; x64) AppleWebKit/537.36 (KHTML, like Gecko) Chrome/111.0.0.0 Safari/537.36\", \"Accept-Encoding\":\"gzip, deflate\", \"Accept\":\"text/html,application/xhtml+xml,application/xml;q=0.9,*/*;q=0.8\", \"DNT\":\"1\",\"Connection\":\"close\", \"Upgrade-Insecure-Requests\":\"1\"}\n",
    "\n",
    "page = requests.get(URL, headers=headers)\n",
    "\n",
    "soup1 = BeautifulSoup(page.content, \"html.parser\")\n",
    "\n",
    "soup2 = BeautifulSoup(soup1.prettify(), \"html.parser\")\n",
    "\n",
    "title = soup2.find(id='productTitle').get_text()\n",
    "\n",
    "\n",
    "price = soup2.find('span',class_='a-price-whole').get_text()\n",
    "price = price.strip()[:5]\n",
    "title = title.strip()\n",
    "today = datetime.date.today()\n",
    "print(today)\n",
    "\n",
    "import csv\n",
    "header = ['Title', 'Price', 'Date']\n",
    "data = [title, price, today]\n",
    "\n",
    "with open('C:/Users/abhi2/Amazonwebscraping.csv', 'a+', newline='', encoding='UTF-8') as f:\n",
    "    writer = csv.writer(f)\n",
    "    writer.writerow(data)\n",
    "    "
   ]
  },
  {
   "cell_type": "code",
   "execution_count": null,
   "id": "7dd6d9e4",
   "metadata": {},
   "outputs": [],
   "source": [
    "while(True):\n",
    "    check_price()\n",
    "    time.sleep(86400)"
   ]
  },
  {
   "cell_type": "code",
   "execution_count": 30,
   "id": "afcbc236",
   "metadata": {},
   "outputs": [
    {
     "name": "stdout",
     "output_type": "stream",
     "text": [
      "                                               Title  Price        Date\n",
      "0  NutriPro Juicer Mixer Grinder - Smoothie Maker...  1,830  2023-04-01\n",
      "1  NutriPro Juicer Mixer Grinder - Smoothie Maker...  1,830  2023-04-01\n",
      "2  NutriPro Juicer Mixer Grinder - Smoothie Maker...  1,830  2023-04-01\n"
     ]
    }
   ],
   "source": [
    "import pandas as pd\n",
    "\n",
    "df = pd.read_csv(r'C:/Users/abhi2/Amazonwebscraping.csv')\n",
    "\n",
    "print(df)"
   ]
  },
  {
   "cell_type": "code",
   "execution_count": null,
   "id": "087282b9",
   "metadata": {},
   "outputs": [],
   "source": []
  }
 ],
 "metadata": {
  "kernelspec": {
   "display_name": "Python 3 (ipykernel)",
   "language": "python",
   "name": "python3"
  },
  "language_info": {
   "codemirror_mode": {
    "name": "ipython",
    "version": 3
   },
   "file_extension": ".py",
   "mimetype": "text/x-python",
   "name": "python",
   "nbconvert_exporter": "python",
   "pygments_lexer": "ipython3",
   "version": "3.10.9"
  }
 },
 "nbformat": 4,
 "nbformat_minor": 5
}
