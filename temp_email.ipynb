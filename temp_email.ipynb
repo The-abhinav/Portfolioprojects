{
 "cells": [
  {
   "cell_type": "code",
   "execution_count": 1,
   "id": "e70f3061",
   "metadata": {},
   "outputs": [
    {
     "name": "stdout",
     "output_type": "stream",
     "text": [
      "Temporary Email Address: rasori9281@bodeem.com\n"
     ]
    }
   ],
   "source": [
    "import time\n",
    "import pandas as pd\n",
    "import undetected_chromedriver as uc\n",
    "from selenium.webdriver.common.by import By\n",
    "from selenium.webdriver.support.ui import WebDriverWait\n",
    "from selenium.webdriver.support import expected_conditions as EC\n",
    "\n",
    "# Set up undetected Chrome options\n",
    "options = uc.ChromeOptions()\n",
    "options.add_argument('--no-sandbox')\n",
    "options.add_argument('--disable-dev-shm-usage')\n",
    "#options.add_argument('--headless')\n",
    "options.add_argument('--disable-gpu')\n",
    "\n",
    "user_data_directory = r'C:\\Users\\abhi2\\OneDrive\\Documents\\portfolio_projects\\profiles'\n",
    "profile_name = r'Profile 5_Tan'\n",
    "\n",
    "options.add_argument(f'--user-data-dir={user_data_directory}')\n",
    "options.add_argument(f'--profile-directory={profile_name}')\n",
    "\n",
    "# Create undetected Chrome driver instance\n",
    "driver = uc.Chrome(options=options)\n",
    "\n",
    "# Navigate to the temp-mail.org website\n",
    "temp_mail_url = 'https://temp-mail.org/en/'\n",
    "driver.get(temp_mail_url)\n",
    "\n",
    "# Explicitly wait until the temporary email address is visible\n",
    "wait = WebDriverWait(driver, 50)\n",
    "email_element = wait.until(EC.visibility_of_element_located((By.ID, 'mail')))\n",
    "\n",
    "# Extract the temporary email address from the webpage\n",
    "temp_email = email_element.get_attribute('value')\n",
    "print(\"Temporary Email Address:\", temp_email)\n",
    "\n",
    "# Close the Chrome driver\n",
    "driver.quit()\n"
   ]
  },
  {
   "cell_type": "code",
   "execution_count": null,
   "id": "dc8bd681",
   "metadata": {},
   "outputs": [],
   "source": []
  }
 ],
 "metadata": {
  "kernelspec": {
   "display_name": "Python 3 (ipykernel)",
   "language": "python",
   "name": "python3"
  },
  "language_info": {
   "codemirror_mode": {
    "name": "ipython",
    "version": 3
   },
   "file_extension": ".py",
   "mimetype": "text/x-python",
   "name": "python",
   "nbconvert_exporter": "python",
   "pygments_lexer": "ipython3",
   "version": "3.10.9"
  }
 },
 "nbformat": 4,
 "nbformat_minor": 5
}
