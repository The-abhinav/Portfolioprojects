{
 "cells": [
  {
   "cell_type": "code",
   "execution_count": 1,
   "id": "36c37588",
   "metadata": {},
   "outputs": [],
   "source": [
    "import time\n",
    "import pandas as pd\n",
    "from selenium import webdriver\n",
    "from selenium.webdriver.common.by import By\n",
    "from selenium.webdriver.chrome.service import Service\n",
    "from webdriver_manager.chrome import ChromeDriverManager\n",
    "from selenium.webdriver.chrome.options import Options\n",
    "\n",
    "options = webdriver.ChromeOptions()\n",
    "options.add_argument('--headless')\n",
    "options.add_argument('--disable-gpu')\n",
    "options.add_argument('--no-sandbox')\n",
    "\n",
    "# Set up Chrome options\n",
    "chrome_options = Options()\n",
    "chrome_options.add_argument('--no-sandbox')\n",
    "chrome_options.add_argument('--disable-dev-shm-usage')\n",
    "chrome_options.add_argument('--headless')\n",
    "chrome_options.add_argument('--disable-gpu')\n",
    "\n",
    "# Set up Chrome service\n",
    "service = Service(executable_path='C:\\\\Users\\\\abhi2\\\\chromedriver.exe')\n",
    "\n",
    "# Create Chrome driver instance\n",
    "driver = webdriver.Chrome(service=service, options=chrome_options)\n"
   ]
  },
  {
   "cell_type": "code",
   "execution_count": 12,
   "id": "289c5729",
   "metadata": {},
   "outputs": [
    {
     "name": "stdout",
     "output_type": "stream",
     "text": [
      "7\n",
      "https://www.youtube.com/c/OpeninApp\n",
      "https://www.youtube.com/hashtag/openinapp\n",
      "https://www.youtube.com/post/UgkxkNMzcb3UCWm4sfl1TtmpUE9eRv_qGnSj\n",
      "https://www.youtube.com/c/TheCrazySk/community\n",
      "https://www.youtube.com/channel/UCT2xzagsBVtStUCA2ulvKmQ/community?lc=UgzpXE3jKdldQ_bhIC54AaABAg&lb=UgkxuuJyjG7qVX8jYgH-kbvM_OOzlSHyAGx2\n",
      "https://www.youtube.com/channel/UCT2xzagsBVtStUCA2ulvKmQ/community?lc=UgyX2L6HMBL9HVnhsCR4AaABAg&lb=UgkxRr0r_-PECgQZa99yjufWKBvKcb19MEHd\n",
      "https://www.youtube.com/@OpeninApp\n",
      "                                               links\n",
      "0                https://www.youtube.com/c/OpeninApp\n",
      "1          https://www.youtube.com/hashtag/openinapp\n",
      "2  https://www.youtube.com/post/UgkxkNMzcb3UCWm4s...\n",
      "3     https://www.youtube.com/c/TheCrazySk/community\n",
      "4  https://www.youtube.com/channel/UCT2xzagsBVtSt...\n"
     ]
    }
   ],
   "source": [
    "# Navigate to Google and search for the query\n",
    "query = 'site:youtube.com openinapp.co'\n",
    "url = f\"https://www.google.com/search?q={query}&num=10000\"\n",
    "\n",
    "driver.get(url)\n",
    "time.sleep(10) \n",
    "# Extract the links from the search results\n",
    "search_results = driver.find_elements(By.CSS_SELECTOR, \".yuRUbf > a\")\n",
    "\n",
    "print(len(search_results))  # Print the length of search_results\n",
    "\n",
    "links = []\n",
    "for result in search_results:\n",
    "    link = result.get_attribute('href')\n",
    "    if 'youtube.com/' in link:\n",
    "        links.append(link)\n",
    "        print(link)\n",
    "    if len(links) >= 10000:\n",
    "        break\n",
    "\n",
    "# Create a Pandas dataframe with the links\n",
    "df = pd.DataFrame({'links': links})\n",
    "print(df.head())\n",
    "df.to_csv('youtube_links.csv', index=False)"
   ]
  },
  {
   "cell_type": "code",
   "execution_count": null,
   "id": "57ddaa3f",
   "metadata": {},
   "outputs": [],
   "source": []
  }
 ],
 "metadata": {
  "kernelspec": {
   "display_name": "Python 3 (ipykernel)",
   "language": "python",
   "name": "python3"
  },
  "language_info": {
   "codemirror_mode": {
    "name": "ipython",
    "version": 3
   },
   "file_extension": ".py",
   "mimetype": "text/x-python",
   "name": "python",
   "nbconvert_exporter": "python",
   "pygments_lexer": "ipython3",
   "version": "3.10.9"
  }
 },
 "nbformat": 4,
 "nbformat_minor": 5
}
